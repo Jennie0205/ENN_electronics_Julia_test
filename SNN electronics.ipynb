{
 "cells": [
  {
   "cell_type": "code",
   "execution_count": 1,
   "id": "0f19afd9",
   "metadata": {},
   "outputs": [
    {
     "name": "stdout",
     "output_type": "stream",
     "text": [
      "89.0\n",
      "Not valid number\n",
      "Not valid number\n",
      "Not valid number\n",
      "Not valid number\n"
     ]
    }
   ],
   "source": [
    "# To print the Fibonacci numbers\n",
    "function fibonacci_num(n) \n",
    "# input n: n is a term in the Fibonacci number\n",
    "# output : nth Fibonacci number \n",
    "    \n",
    "    if n <= 1 || isinteger(n)!= true \n",
    "        return \"Not valid number\"\n",
    "    else\n",
    "        # calculate the Fibonacci numbers using the Golden Ratio\n",
    "        return round(((1+5 ^ 0.5) / 2 )^n / (5 ^ 0.5))\n",
    "    end\n",
    "end\n",
    "\n",
    "# Test code\n",
    "# Test vector =[11, 3.5, 0, -1, 1]\n",
    "for i in [11, 3.5, 0, -1, 1]\n",
    "    println(fibonacci_num(i)) \n",
    "end\n",
    "    "
   ]
  },
  {
   "cell_type": "code",
   "execution_count": 2,
   "id": "c0abcd42",
   "metadata": {},
   "outputs": [
    {
     "name": "stdout",
     "output_type": "stream",
     "text": [
      "Given string: Hello, how are you? I am fine, thank you\n",
      "Reversed string: you thank fine, am I you? are how Hello,\n",
      "Given string: \n",
      "Reversed string: \n"
     ]
    }
   ],
   "source": [
    "# To reverse words in a given String\n",
    "function reverse_string(s)\n",
    "# input s: given string\n",
    "# output reverse_s : reversed given string\n",
    "    \n",
    "    # Split given string with space and return them as string array\n",
    "    arr_s = split(s, \" \") \n",
    "    # join elements in arr_s with reversed order\n",
    "    reverse_s = join(reverse(arr_s), \" \")\n",
    "    return (reverse_s)\n",
    "end\n",
    "\n",
    "# Test code\n",
    "# One normal string and the other extreme condition \n",
    "a = \"Hello, how are you? I am fine, thank you\"\n",
    "b = \"\"\n",
    "\n",
    "for test in [a, b]\n",
    "    println(\"Given string: \" * test)\n",
    "    println(\"Reversed string: \" * reverse_string(test))\n",
    "end\n"
   ]
  },
  {
   "cell_type": "code",
   "execution_count": 32,
   "id": "ff5b8f60",
   "metadata": {},
   "outputs": [
    {
     "name": "stdout",
     "output_type": "stream",
     "text": [
      "Not valid number\n",
      "Not valid number\n",
      "[0]\n",
      "[0, 1]\n",
      "[0, 1, 1, 2, 3, 5, 8, 13, 21, 34, 55, 89, 144, 233, 377, 610, 987, 1597, 2584, 4181, 6765]\n"
     ]
    }
   ],
   "source": [
    "# To print the Fibonacci numbers\n",
    "function fibonacci_num(n) \n",
    "# input n: n is a term in the Fibonacci number\n",
    "# output : nth Fibonacci number \n",
    "    \n",
    "    arr = Int64[]\n",
    "    \n",
    "    if n < 0 || isinteger(n)!= true\n",
    "        return (\"Not valid number\")\n",
    "    else\n",
    "        # calculate the Fibonacci numbers using the Golden Ratio\n",
    "        for i in range(0, n)\n",
    "            append!(arr, round(((1+5 ^ 0.5) / 2 )^i / (5 ^ 0.5)))\n",
    "        end\n",
    "        return arr\n",
    "    end\n",
    "end\n",
    "\n",
    "# Test code\n",
    "# Test vector =[-1, 0.1, 0, 1, 20]\n",
    "for i in [-1, 0.1, 0, 1, 20]\n",
    "    println(fibonacci_num(i))\n",
    "end"
   ]
  },
  {
   "cell_type": "code",
   "execution_count": null,
   "id": "2d8d48a4-b45a-4a0b-b3c8-729e93431a07",
   "metadata": {},
   "outputs": [],
   "source": []
  },
  {
   "cell_type": "code",
   "execution_count": null,
   "id": "7c9dec4c-d355-4d3d-8c6d-fe06071b5b7f",
   "metadata": {},
   "outputs": [],
   "source": []
  }
 ],
 "metadata": {
  "kernelspec": {
   "display_name": "Julia 1.7.3",
   "language": "julia",
   "name": "julia-1.7"
  },
  "language_info": {
   "file_extension": ".jl",
   "mimetype": "application/julia",
   "name": "julia",
   "version": "1.7.3"
  }
 },
 "nbformat": 4,
 "nbformat_minor": 5
}
